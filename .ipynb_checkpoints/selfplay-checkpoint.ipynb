{
 "cells": [
  {
   "cell_type": "code",
   "execution_count": 1,
   "metadata": {},
   "outputs": [],
   "source": [
    "using Pkg\n",
    "Pkg.add(\"Chess\") # Chess: https://romstad.github.io/Chess.jl/dev/manual/\n",
    "using Chess"
   ]
  },
  {
   "cell_type": "code",
   "execution_count": null,
   "metadata": {},
   "outputs": [],
   "source": [
    "function mcts(s, node)\n",
    "    if isdraw(s)\n",
    "        backpropagate(0, node) # no reward, but must still update counts\n",
    "    \n",
    "    elseif ischeckmate(s)\n",
    "        backpropagate(-1, node) # prev player checkmated us\n",
    "    \n",
    "    elseif node == missing\n",
    "        p, v = fθ(s)\n",
    "        nmoves, a, p = validpolicy(s, p)\n",
    "        \n",
    "        node.cA, node.cP = a, p\n",
    "        node.cN = node.cQ = zeros(nmoves)\n",
    "        node.cNode = Vector{TreeNode}(missing, nmoves)\n",
    "        \n",
    "        backpropagate(v, node)\n",
    "    \n",
    "    else\n",
    "        a = node.A[argmaxUCT(node.W, node.N, node.P)]\n",
    "        sp = !domove(s, a)\n",
    "        mcts(sp, node.children[a])\n",
    "    end\n",
    "end"
   ]
  },
  {
   "cell_type": "code",
   "execution_count": 2,
   "metadata": {},
   "outputs": [],
   "source": [
    "mutable struct TreeNode\n",
    "    isleaf::Bool\n",
    "    parent::TreeNode\n",
    "    cW::Vector{Float16} \n",
    "    cN::Vector{Float16}\n",
    "    cA::Vector{Move}\n",
    "    cP::Vector{Float16}\n",
    "    cNode::Vector{TreeNode}\n",
    "end"
   ]
  },
  {
   "cell_type": "code",
   "execution_count": null,
   "metadata": {},
   "outputs": [],
   "source": [
    "function backpropagate(r, node)\n",
    "    while node != NULL\n",
    "        # update count and total reward\n",
    "        node.N += 1\n",
    "        node.W += r\n",
    "        \n",
    "        # tree switches between white & black\n",
    "        node = node.parent\n",
    "        r = -r\n",
    "    end\n",
    "end"
   ]
  },
  {
   "cell_type": "code",
   "execution_count": null,
   "metadata": {},
   "outputs": [],
   "source": [
    "function argmaxUCT(W, N, P, c=2.0)\n",
    "    Q = W / N\n",
    "    U = c * P / (1 + N) * √sum(N) \n",
    "    return argmax(Q + U)\n",
    "end"
   ]
  },
  {
   "cell_type": "code",
   "execution_count": null,
   "metadata": {},
   "outputs": [],
   "source": [
    "function validpolicy(s, p)\n",
    "    a = genmoves(s)\n",
    "    nmoves = length(a)\n",
    "\n",
    "    # valid policy\n",
    "    vp = [p[row, col, plane] for (row, col, plane) in alphazero_rep.(a)]\n",
    "    vp /= sum(vp)\n",
    "        \n",
    "    return nmoves, a, vp\n",
    "end"
   ]
  }
 ],
 "metadata": {
  "kernelspec": {
   "display_name": "Julia 1.6.1",
   "language": "julia",
   "name": "julia-1.6"
  },
  "language_info": {
   "file_extension": ".jl",
   "mimetype": "application/julia",
   "name": "julia",
   "version": "1.6.1"
  }
 },
 "nbformat": 4,
 "nbformat_minor": 4
}
