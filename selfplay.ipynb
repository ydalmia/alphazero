{
 "cells": [
  {
   "cell_type": "code",
   "execution_count": null,
   "metadata": {},
   "outputs": [],
   "source": [
    "# Machine Learning: https://fluxml.ai/Flux.jl/stable/models/basics/"
   ]
  },
  {
   "cell_type": "code",
   "execution_count": 2,
   "metadata": {},
   "outputs": [],
   "source": [
    "using Pkg\n",
    "Pkg.add(\"Chess\") # Chess: https://romstad.github.io/Chess.jl/dev/manual/\n",
    "import Chess"
   ]
  },
  {
   "cell_type": "code",
   "execution_count": 1,
   "metadata": {},
   "outputs": [],
   "source": [
    "# https://docs.julialang.org/en/v1/manual/constructors/\n",
    "mutable struct TreeNode\n",
    "    is_leaf::Bool\n",
    "    Q::Float16\n",
    "    N::Int16\n",
    "    parent::TreeNode\n",
    "    children::Vector{@NamedTuple{a, p::Float16, node::TreeNode}}\n",
    "end"
   ]
  },
  {
   "cell_type": "code",
   "execution_count": 9,
   "metadata": {},
   "outputs": [
    {
     "data": {
      "text/plain": [
       "mcts (generic function with 1 method)"
      ]
     },
     "execution_count": 9,
     "metadata": {},
     "output_type": "execute_result"
    }
   ],
   "source": [
    "function mcts(s, node)\n",
    "    if Chess.isterminal(s)\n",
    "        r = -1 # the previous player won\n",
    "        backpropagate(r, node)\n",
    "    \n",
    "    elseif node.is_leaf\n",
    "        node.is_leaf = false\n",
    "        a, p, v = f(s)\n",
    "        node.children.a .= a\n",
    "        node.children.p .= p\n",
    "        node.children.node .= TreeNode()\n",
    "        backpropagate(v, node)\n",
    "    \n",
    "    else \n",
    "        a = argmax_PUCT(node.children)\n",
    "         = transition(s, a)\n",
    "        mcts(sp, node.children[a])\n",
    "    end\n",
    "end"
   ]
  },
  {
   "cell_type": "code",
   "execution_count": 10,
   "metadata": {},
   "outputs": [
    {
     "data": {
      "text/plain": [
       "backpropagate (generic function with 1 method)"
      ]
     },
     "execution_count": 10,
     "metadata": {},
     "output_type": "execute_result"
    }
   ],
   "source": [
    "function backpropagate(r, node)\n",
    "    while node != NULL\n",
    "        # update count and average\n",
    "        node.N += 1\n",
    "        node.Q += (r - node.Q) / node.N\n",
    "        \n",
    "        # flip reward as we switch from white to black\n",
    "        node = node.parent\n",
    "        r = -r\n",
    "    end\n",
    "end"
   ]
  },
  {
   "cell_type": "code",
   "execution_count": null,
   "metadata": {},
   "outputs": [],
   "source": [
    "s = startboard()"
   ]
  }
 ],
 "metadata": {
  "kernelspec": {
   "display_name": "Julia 1.6.1",
   "language": "julia",
   "name": "julia-1.6"
  },
  "language_info": {
   "file_extension": ".jl",
   "mimetype": "application/julia",
   "name": "julia",
   "version": "1.6.1"
  }
 },
 "nbformat": 4,
 "nbformat_minor": 4
}
