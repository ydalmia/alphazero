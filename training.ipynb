{
 "cells": [
  {
   "cell_type": "code",
   "execution_count": 5,
   "metadata": {},
   "outputs": [],
   "source": [
    "using Pkg\n",
    "Pkg.add(\"Flux\")\n",
    "using Flux"
   ]
  },
  {
   "cell_type": "code",
   "execution_count": 54,
   "metadata": {},
   "outputs": [
    {
     "data": {
      "text/plain": [
       "fθ (generic function with 2 methods)"
      ]
     },
     "execution_count": 54,
     "metadata": {},
     "output_type": "execute_result"
    }
   ],
   "source": [
    "function Residual()\n",
    "    α = Chain(Conv((3, 3), 256 => 256, relu, pad=(1, 1), stride=(1, 1)),\n",
    "                BatchNorm(256, relu),\n",
    "                Conv((3, 3), 256 => 256, relu, pad=(1, 1), stride=(1, 1)),\n",
    "                BatchNorm(256))\n",
    "    \n",
    "    β = SkipConnection(α, +)\n",
    "    return β\n",
    "end\n",
    "\n",
    "\n",
    "function fθ()\n",
    "    γ = Chain(\n",
    "            Conv((3, 3), 119 => 256, relu, pad=(1, 1), stride=(1, 1)),\n",
    "            BatchNorm(256, relu), \n",
    "            Conv((3, 3), 256 => 256, relu, pad=(1, 1), stride=(1, 1)),\n",
    "            BatchNorm(256),\n",
    "            Residual(), \n",
    "            Residual(), \n",
    "            Residual(),\n",
    "            Residual()\n",
    "        )\n",
    "    return γ\n",
    "end"
   ]
  },
  {
   "cell_type": "code",
   "execution_count": 55,
   "metadata": {},
   "outputs": [
    {
     "name": "stdout",
     "output_type": "stream",
     "text": [
      "(8, 8, 256, 5)"
     ]
    }
   ],
   "source": [
    "x = rand(Float32, (8, 8, 119, 5))\n",
    "y = fθ(x)\n",
    "\n",
    "print(size(y))"
   ]
  },
  {
   "cell_type": "code",
   "execution_count": 15,
   "metadata": {},
   "outputs": [
    {
     "data": {
      "text/plain": [
       "l (generic function with 1 method)"
      ]
     },
     "execution_count": 15,
     "metadata": {},
     "output_type": "execute_result"
    }
   ],
   "source": [
    "function l(y, ŷ)\n",
    "    value_loss = (y.z - ŷ.v)^2\n",
    "    policy_loss = -y.π ⋅ log(ŷ.ρ)\n",
    "    return value_loss + policy_loss\n",
    "end"
   ]
  },
  {
   "cell_type": "code",
   "execution_count": null,
   "metadata": {},
   "outputs": [],
   "source": [
    "Flux.train!(objective, params, data, opt)"
   ]
  }
 ],
 "metadata": {
  "kernelspec": {
   "display_name": "Julia 1.6.1",
   "language": "julia",
   "name": "julia-1.6"
  },
  "language_info": {
   "file_extension": ".jl",
   "mimetype": "application/julia",
   "name": "julia",
   "version": "1.6.1"
  }
 },
 "nbformat": 4,
 "nbformat_minor": 4
}
