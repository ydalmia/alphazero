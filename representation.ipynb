{
 "cells": [
  {
   "cell_type": "code",
   "execution_count": 1,
   "metadata": {},
   "outputs": [],
   "source": [
    "using Pkg\n",
    "Pkg.add(\"Chess\")\n",
    "using Chess"
   ]
  },
  {
   "cell_type": "code",
   "execution_count": 2,
   "metadata": {},
   "outputs": [
    {
     "data": {
      "text/plain": [
       "get_alphazero_input (generic function with 1 method)"
      ]
     },
     "execution_count": 2,
     "metadata": {},
     "output_type": "execute_result"
    }
   ],
   "source": [
    "# simple representation of board: just pieces plus current color\n",
    "# for a total of 13 planes\n",
    "function get_alphazero_input(board, rep)\n",
    "    color = sidetomove(board) == WHITE ? ones(rep, 8, 8) : zeros(rep, 8, 8)\n",
    "    \n",
    "    input = cat(\n",
    "        color,\n",
    "        toarray(pieces(board, PIECE_BP), rep),\n",
    "        toarray(pieces(board, PIECE_BN), rep),\n",
    "        toarray(pieces(board, PIECE_BB), rep),\n",
    "        toarray(pieces(board, PIECE_BR), rep),\n",
    "        toarray(pieces(board, PIECE_BQ), rep),\n",
    "        toarray(pieces(board, PIECE_BK), rep),\n",
    "        toarray(pieces(board, PIECE_WP), rep),\n",
    "        toarray(pieces(board, PIECE_WN), rep),\n",
    "        toarray(pieces(board, PIECE_WB), rep),\n",
    "        toarray(pieces(board, PIECE_WR), rep),\n",
    "        toarray(pieces(board, PIECE_WQ), rep),\n",
    "        toarray(pieces(board, PIECE_WK), rep),\n",
    "        dims=3\n",
    "    )\n",
    "    return input \n",
    "end"
   ]
  },
  {
   "cell_type": "code",
   "execution_count": 3,
   "metadata": {},
   "outputs": [
    {
     "data": {
      "text/plain": [
       "alphazero_rep (generic function with 1 method)"
      ]
     },
     "execution_count": 3,
     "metadata": {},
     "output_type": "execute_result"
    }
   ],
   "source": [
    "function alphazero_rep(move::Move, encoder::Dict)\n",
    "    dest = to(move) \n",
    "    src = from(move)\n",
    "    \n",
    "    src_row = convert(Int, SquareRank(src))\n",
    "    src_col = convert(Int, SquareFile(src))\n",
    "\n",
    "    delta = dest - src\n",
    "    prmt = ispromotion(move) ? promotion(move) : EMPTY\n",
    "    plane = encoder[delta, prmt]\n",
    "    \n",
    "    return (src_row, src_col, plane)       \n",
    "end"
   ]
  },
  {
   "cell_type": "code",
   "execution_count": 4,
   "metadata": {},
   "outputs": [
    {
     "data": {
      "text/plain": [
       "uci_rep (generic function with 1 method)"
      ]
     },
     "execution_count": 4,
     "metadata": {},
     "output_type": "execute_result"
    }
   ],
   "source": [
    "function uci_rep(src_row::Int, src_col::Int, plane::Int, decoder::Dict)\n",
    "    # row 8 in matrix -> rank 1\n",
    "    # col 8 in matrix -> rank H\n",
    "    sq = Square(SquareFile(src_col), SquareRank(src_row))\n",
    "    \n",
    "    delta, prmt = decoder[plane]\n",
    "    \n",
    "    if prmt == EMPTY\n",
    "        return Move(sq, sq + delta)\n",
    "    end\n",
    "    \n",
    "    return Move(sq, sq + delta, prmt)\n",
    "end"
   ]
  },
  {
   "cell_type": "code",
   "execution_count": 5,
   "metadata": {},
   "outputs": [
    {
     "data": {
      "text/plain": [
       "alphazero_encoder_decoder (generic function with 1 method)"
      ]
     },
     "execution_count": 5,
     "metadata": {},
     "output_type": "execute_result"
    }
   ],
   "source": [
    "function alphazero_encoder_decoder()\n",
    "    encoder = Dict()\n",
    "    decoder = Dict()\n",
    "    \n",
    "    i = 1\n",
    "    \n",
    "    # queen moves (56)\n",
    "    for n in 1:7\n",
    "        for delta in [DELTA_N, DELTA_S, DELTA_E, DELTA_W, DELTA_NW, DELTA_NE, DELTA_SW, DELTA_SE]\n",
    "            encoder[(n * delta, EMPTY)] = i \n",
    "            decoder[i] = (n * delta, EMPTY)\n",
    "            i += 1\n",
    "        end\n",
    "    end\n",
    "    \n",
    "    # knight moves (4)\n",
    "    for delta_file in [2 * DELTA_E, 2 * DELTA_W]\n",
    "        for delta_rank in [DELTA_N, DELTA_S]\n",
    "            delta = delta_file + delta_rank\n",
    "            encoder[(delta, EMPTY)] = i\n",
    "            decoder[i] = (delta, EMPTY)\n",
    "            i += 1\n",
    "        end\n",
    "    end\n",
    "    \n",
    "    # more knight moves (4)\n",
    "    for delta_file in [DELTA_E, DELTA_W]\n",
    "        for delta_rank in [2 * DELTA_N, 2 * DELTA_S]\n",
    "            delta = delta_file + delta_rank\n",
    "            encoder[(delta, EMPTY)] = i\n",
    "            decoder[i] = (delta, EMPTY)\n",
    "            i += 1\n",
    "        end\n",
    "    end\n",
    "    \n",
    "    # promotion moves (24)\n",
    "    for delta in [DELTA_N, DELTA_NE, DELTA_NW, DELTA_S, DELTA_SE, DELTA_SW]\n",
    "        for piece in [KNIGHT, BISHOP, ROOK, QUEEN]\n",
    "            encoder[(delta, piece)] = i\n",
    "            decoder[i] = (delta, piece)\n",
    "            i += 1\n",
    "        end\n",
    "    end\n",
    "    \n",
    "    return encoder, decoder\n",
    "    \n",
    "end"
   ]
  },
  {
   "cell_type": "code",
   "execution_count": 6,
   "metadata": {},
   "outputs": [
    {
     "name": "stdout",
     "output_type": "stream",
     "text": [
      "69\n",
      "68\n",
      "14\n",
      "55\n",
      "49\n",
      "Move(c8c7r)\n"
     ]
    }
   ],
   "source": [
    "# to and from uci and alphazero\n",
    "encoder, decoder = alphazero_encoder_decoder()\n",
    "\n",
    "# test all values in decoder (and therefore encoder, in theory)\n",
    "for i in 1:88\n",
    "    decoder[i]\n",
    "end\n",
    "\n",
    "# test translation from uci -> alpha zero\n",
    "println(alphazero_rep(Move(SQ_A7, SQ_B8, KNIGHT), encoder))\n",
    "println(alphazero_rep(Move(SQ_A7, SQ_A8, QUEEN), encoder))\n",
    "println(alphazero_rep(Move(SQ_A4, SQ_C6), encoder))\n",
    "println(alphazero_rep(Move(SQ_H8, SQ_A1), encoder))\n",
    "println(alphazero_rep(Move(SQ_B2, SQ_A1), encoder))\n",
    "# test translation from alpha zero -> uci\n",
    "println(uci_rep(1, 3, 79, decoder))"
   ]
  },
  {
   "cell_type": "code",
   "execution_count": 7,
   "metadata": {},
   "outputs": [
    {
     "data": {
      "text/plain": [
       "8×8×13 Array{Float16, 3}:\n",
       "[:, :, 1] =\n",
       " 1.0  1.0  1.0  1.0  1.0  1.0  1.0  1.0\n",
       " 1.0  1.0  1.0  1.0  1.0  1.0  1.0  1.0\n",
       " 1.0  1.0  1.0  1.0  1.0  1.0  1.0  1.0\n",
       " 1.0  1.0  1.0  1.0  1.0  1.0  1.0  1.0\n",
       " 1.0  1.0  1.0  1.0  1.0  1.0  1.0  1.0\n",
       " 1.0  1.0  1.0  1.0  1.0  1.0  1.0  1.0\n",
       " 1.0  1.0  1.0  1.0  1.0  1.0  1.0  1.0\n",
       " 1.0  1.0  1.0  1.0  1.0  1.0  1.0  1.0\n",
       "\n",
       "[:, :, 2] =\n",
       " 0.0  0.0  0.0  0.0  0.0  0.0  0.0  0.0\n",
       " 1.0  1.0  1.0  1.0  1.0  1.0  1.0  1.0\n",
       " 0.0  0.0  0.0  0.0  0.0  0.0  0.0  0.0\n",
       " 0.0  0.0  0.0  0.0  0.0  0.0  0.0  0.0\n",
       " 0.0  0.0  0.0  0.0  0.0  0.0  0.0  0.0\n",
       " 0.0  0.0  0.0  0.0  0.0  0.0  0.0  0.0\n",
       " 0.0  0.0  0.0  0.0  0.0  0.0  0.0  0.0\n",
       " 0.0  0.0  0.0  0.0  0.0  0.0  0.0  0.0\n",
       "\n",
       "[:, :, 3] =\n",
       " 0.0  1.0  0.0  0.0  0.0  0.0  1.0  0.0\n",
       " 0.0  0.0  0.0  0.0  0.0  0.0  0.0  0.0\n",
       " 0.0  0.0  0.0  0.0  0.0  0.0  0.0  0.0\n",
       " 0.0  0.0  0.0  0.0  0.0  0.0  0.0  0.0\n",
       " 0.0  0.0  0.0  0.0  0.0  0.0  0.0  0.0\n",
       " 0.0  0.0  0.0  0.0  0.0  0.0  0.0  0.0\n",
       " 0.0  0.0  0.0  0.0  0.0  0.0  0.0  0.0\n",
       " 0.0  0.0  0.0  0.0  0.0  0.0  0.0  0.0\n",
       "\n",
       "...\n",
       "\n",
       "[:, :, 11] =\n",
       " 0.0  0.0  0.0  0.0  0.0  0.0  0.0  0.0\n",
       " 0.0  0.0  0.0  0.0  0.0  0.0  0.0  0.0\n",
       " 0.0  0.0  0.0  0.0  0.0  0.0  0.0  0.0\n",
       " 0.0  0.0  0.0  0.0  0.0  0.0  0.0  0.0\n",
       " 0.0  0.0  0.0  0.0  0.0  0.0  0.0  0.0\n",
       " 0.0  0.0  0.0  0.0  0.0  0.0  0.0  0.0\n",
       " 0.0  0.0  0.0  0.0  0.0  0.0  0.0  0.0\n",
       " 1.0  0.0  0.0  0.0  0.0  0.0  0.0  1.0\n",
       "\n",
       "[:, :, 12] =\n",
       " 0.0  0.0  0.0  0.0  0.0  0.0  0.0  0.0\n",
       " 0.0  0.0  0.0  0.0  0.0  0.0  0.0  0.0\n",
       " 0.0  0.0  0.0  0.0  0.0  0.0  0.0  0.0\n",
       " 0.0  0.0  0.0  0.0  0.0  0.0  0.0  0.0\n",
       " 0.0  0.0  0.0  0.0  0.0  0.0  0.0  0.0\n",
       " 0.0  0.0  0.0  0.0  0.0  0.0  0.0  0.0\n",
       " 0.0  0.0  0.0  0.0  0.0  0.0  0.0  0.0\n",
       " 0.0  0.0  0.0  1.0  0.0  0.0  0.0  0.0\n",
       "\n",
       "[:, :, 13] =\n",
       " 0.0  0.0  0.0  0.0  0.0  0.0  0.0  0.0\n",
       " 0.0  0.0  0.0  0.0  0.0  0.0  0.0  0.0\n",
       " 0.0  0.0  0.0  0.0  0.0  0.0  0.0  0.0\n",
       " 0.0  0.0  0.0  0.0  0.0  0.0  0.0  0.0\n",
       " 0.0  0.0  0.0  0.0  0.0  0.0  0.0  0.0\n",
       " 0.0  0.0  0.0  0.0  0.0  0.0  0.0  0.0\n",
       " 0.0  0.0  0.0  0.0  0.0  0.0  0.0  0.0\n",
       " 0.0  0.0  0.0  0.0  1.0  0.0  0.0  0.0"
      ]
     },
     "execution_count": 7,
     "metadata": {},
     "output_type": "execute_result"
    }
   ],
   "source": [
    "# alphazero state representation\n",
    "get_alphazero_input(startboard(), Float16)"
   ]
  }
 ],
 "metadata": {
  "kernelspec": {
   "display_name": "Julia 1.6.1",
   "language": "julia",
   "name": "julia-1.6"
  },
  "language_info": {
   "file_extension": ".jl",
   "mimetype": "application/julia",
   "name": "julia",
   "version": "1.6.1"
  }
 },
 "nbformat": 4,
 "nbformat_minor": 4
}
