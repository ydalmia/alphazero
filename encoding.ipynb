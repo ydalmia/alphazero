{
 "cells": [
  {
   "cell_type": "code",
   "execution_count": 29,
   "metadata": {},
   "outputs": [
    {
     "data": {
      "text/plain": [
       "alphazero_encoder (generic function with 1 method)"
      ]
     },
     "execution_count": 29,
     "metadata": {},
     "output_type": "execute_result"
    }
   ],
   "source": [
    "NO_PROMOTION = '_'\n",
    "ROOK = 'r'\n",
    "BISHOP = 'b'\n",
    "KNIGHT = 'n'\n",
    "\n",
    "# construct alpha zero plane encoder (dictionary)\n",
    "function alphazero_encoder()\n",
    "    i = 1\n",
    "    # queen-type moves\n",
    "    encoding = Dict()\n",
    "    for up in [-1, 0, 1] # can move down zero or up\n",
    "        for right in [-1, 0, 1] # can move left right or zero\n",
    "            for n in 1:7 # scalar multiplier for how far we move\n",
    "                if up != 0 || right != 0 # need to move somewhere\n",
    "                    encoding[(n * right, n * up, NO_PROMOTION)] = i\n",
    "                    i += 1\n",
    "                end\n",
    "            end\n",
    "        end\n",
    "    end\n",
    "    \n",
    "    # knight moves\n",
    "    for up in [-2, 2, -1, 1] # down or up and how far\n",
    "        for right in [-2, 2, -1, 1] # left or right and how far\n",
    "            if abs(up) != abs(right) # left and right can't be same length\n",
    "                encoding[(right, up, NO_PROMOTION)] = i\n",
    "                i += 1\n",
    "            end\n",
    "        end\n",
    "    end\n",
    "    \n",
    "    # under promotion moves\n",
    "    for up in [1]\n",
    "        for right in [-1, 0, 1]\n",
    "            for piece in [ROOK, BISHOP, KNIGHT]\n",
    "                encoding[(right, up, piece)] = i\n",
    "                i += 1\n",
    "            end\n",
    "        end \n",
    "    end \n",
    "    \n",
    "    return encoding\n",
    "end"
   ]
  },
  {
   "cell_type": "code",
   "execution_count": 30,
   "metadata": {},
   "outputs": [
    {
     "data": {
      "text/plain": [
       "alphazero_encoding (generic function with 2 methods)"
      ]
     },
     "execution_count": 30,
     "metadata": {},
     "output_type": "execute_result"
    }
   ],
   "source": [
    "NO_PROMOTION = '_'\n",
    "KNIGHT = 'n'\n",
    "BISHOP = 'b'\n",
    "ROOK = 'r'\n",
    "\n",
    "@inline function col_to_int(c::Char)\n",
    "    return (c - 'a') + 1\n",
    "end\n",
    "\n",
    "function row_col_promotion(move_str)\n",
    "    from_col = col_to_int(move_str[1])\n",
    "    from_row = parse(Int, move_str[2])\n",
    "    \n",
    "    to_col = col_to_int(move_str[3])\n",
    "    to_row = parse(Int, move_str[4])\n",
    "     \n",
    "    promotion = NO_PROMOTION\n",
    "    if length(move_str) == 5\n",
    "        piece = move_str[5]\n",
    "        if (piece == KNIGHT || piece == BISHOP || piece == ROOK)\n",
    "            promotion = piece\n",
    "        end\n",
    "    end\n",
    "    \n",
    "    return from_col, from_row, to_col, to_row, promotion \n",
    "end\n",
    "\n",
    "function alphazero_encoding(move_str, encoder=alphazero_encoder())\n",
    "    from_col, from_row, to_col, to_row, promotion = row_col_promotion(move_str)\n",
    "    plane = encoding[(to_col - from_col, to_row - from_row, promotion)]\n",
    "    return from_col, from_row, plane\n",
    "end"
   ]
  },
  {
   "cell_type": "code",
   "execution_count": 31,
   "metadata": {},
   "outputs": [
    {
     "name": "stdout",
     "output_type": "stream",
     "text": [
      "(1, 7, 73)\n",
      "(1, 7, 70)\n"
     ]
    }
   ],
   "source": [
    "# UNCOMMENT THIS IF YOU WANT TO RUN TESTS\n",
    "# using Pkg\n",
    "# Pkg.add(\"Chess\")\n",
    "# import Chess\n",
    "\n",
    "# encoder = alphazero_encoder()\n",
    "# move_str = Chess.tostring(Chess.Move(Chess.SQ_A7, Chess.SQ_B8, Chess.KNIGHT))\n",
    "# println(alphazero_encoding(move_str, encoder))\n",
    "\n",
    "# move_str = Chess.tostring(Chess.Move(Chess.SQ_A7, Chess.SQ_A8, Chess.KNIGHT))\n",
    "# println(alphazero_encoding(move_str))\n",
    "\n",
    "# move_str = Chess.tostring(Chess.Move(Chess.SQ_A4, Chess.SQ_C6))\n",
    "# println(alphazero_encoding(move_str))\n",
    "\n",
    "# move_str = Chess.tostring(Chess.Move(Chess.SQ_H8, Chess.SQ_A1))\n",
    "# println(alphazero_encoding(move_str))\n",
    "\n",
    "# move_str = Chess.tostring(Chess.Move(Chess.SQ_B2, Chess.SQ_A1))\n",
    "# println(alphazero_encoding(move_str))"
   ]
  }
 ],
 "metadata": {
  "kernelspec": {
   "display_name": "Julia 1.6.1",
   "language": "julia",
   "name": "julia-1.6"
  },
  "language_info": {
   "file_extension": ".jl",
   "mimetype": "application/julia",
   "name": "julia",
   "version": "1.6.1"
  }
 },
 "nbformat": 4,
 "nbformat_minor": 4
}
